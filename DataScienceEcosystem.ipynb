{
 "cells": [
  {
   "cell_type": "markdown",
   "id": "48df5d9e-619a-4f2b-8c30-24221a4568f8",
   "metadata": {
    "tags": []
   },
   "source": [
    "# Data Science Tools and Ecosystem"
   ]
  },
  {
   "cell_type": "markdown",
   "id": "e478d9d1-a158-4790-8d1a-c4a6c7539e59",
   "metadata": {},
   "source": [
    "In this notebook, Data Science Tools and Ecosystem are summarized."
   ]
  },
  {
   "cell_type": "markdown",
   "id": "49af7fed-1f04-451b-a7c4-c0a2e0cb9fa8",
   "metadata": {},
   "source": [
    "**Objectives:**\n",
    "+ List popular languages for Data Science\n",
    "+ Understand what Python is\n",
    "+ Learn how to make graphs in R\n",
    "+ How to colaborate on code development with GitHub"
   ]
  },
  {
   "cell_type": "markdown",
   "id": "b3ecc521-921b-4cbb-97fd-a87efb7281c0",
   "metadata": {},
   "source": [
    "## Author\n",
    "Bernd Wagner"
   ]
  },
  {
   "cell_type": "markdown",
   "id": "1cd27582-f546-470e-962e-caa653435dc7",
   "metadata": {},
   "source": [
    "Some of the popular languages that Data Scientists use are:\n",
    " 1. Python\n",
    " 2. R\n",
    " 3. Java"
   ]
  },
  {
   "cell_type": "markdown",
   "id": "b8b30cf1-f66e-4ddc-a160-6032c8aa5709",
   "metadata": {},
   "source": [
    "Some of the commonly used libraries used by Data Scientists include:\n",
    "1. Matplotlib\n",
    "2. Numpy\n",
    "3. Pandas"
   ]
  },
  {
   "cell_type": "markdown",
   "id": "29e0d695-173a-4027-8526-5955fe6651d6",
   "metadata": {},
   "source": [
    "|Data Science Tools|\n",
    "|--|\n",
    "| GitLab|\n",
    "| Hadoop |\n",
    "| Snyk |"
   ]
  },
  {
   "cell_type": "markdown",
   "id": "c959f92c-1164-41b0-bfeb-87d512546707",
   "metadata": {
    "tags": []
   },
   "source": [
    "### Below are a few examples of evaluating arithmetic expressions in Python"
   ]
  },
  {
   "cell_type": "code",
   "execution_count": 1,
   "id": "bf4e49f2-dc02-4256-975d-72cd94edb519",
   "metadata": {
    "tags": []
   },
   "outputs": [
    {
     "data": {
      "text/plain": [
       "17"
      ]
     },
     "execution_count": 1,
     "metadata": {},
     "output_type": "execute_result"
    }
   ],
   "source": [
    "#This a simple arithmetic expression to mutiply then add integers\n",
    "(3*4)+5"
   ]
  },
  {
   "cell_type": "code",
   "execution_count": 2,
   "id": "d8371173-85a7-4be1-9b69-d8e8025f5e56",
   "metadata": {
    "tags": []
   },
   "outputs": [
    {
     "data": {
      "text/plain": [
       "3.3333333333333335"
      ]
     },
     "execution_count": 2,
     "metadata": {},
     "output_type": "execute_result"
    }
   ],
   "source": [
    "# This will convert 200 minutes to hours by diving by 60\n",
    "200/60"
   ]
  },
  {
   "cell_type": "code",
   "execution_count": null,
   "id": "0da8653a-9ddf-4114-b0a3-087e8005aa7a",
   "metadata": {},
   "outputs": [],
   "source": []
  }
 ],
 "metadata": {
  "kernelspec": {
   "display_name": "Python",
   "language": "python",
   "name": "conda-env-python-py"
  },
  "language_info": {
   "codemirror_mode": {
    "name": "ipython",
    "version": 3
   },
   "file_extension": ".py",
   "mimetype": "text/x-python",
   "name": "python",
   "nbconvert_exporter": "python",
   "pygments_lexer": "ipython3",
   "version": "3.7.12"
  }
 },
 "nbformat": 4,
 "nbformat_minor": 5
}
